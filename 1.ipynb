{
 "cells": [
  {
   "cell_type": "code",
   "execution_count": 15,
   "metadata": {},
   "outputs": [
    {
     "data": {
      "text/plain": [
       "(4, 8)"
      ]
     },
     "execution_count": 15,
     "metadata": {},
     "output_type": "execute_result"
    }
   ],
   "source": [
    "import numpy as np\n",
    "a = np.array([\n",
    "    [1, 4, 7],\n",
    "    [2, 5, 8],\n",
    "    [3, 6, 9],\n",
    "    [3, 6, 9],\n",
    "    [3, 6, 9],\n",
    "    [3, 6, 9],\n",
    "    [3, 6, 9],\n",
    "    [4, 7, 0]\n",
    "]).T\n",
    "t = np.linspace(0, 300, 8)\n",
    "np.vstack([a, t.reshape(1, -1)]).shape"
   ]
  }
 ],
 "metadata": {
  "kernelspec": {
   "display_name": "Python 3",
   "language": "python",
   "name": "python3"
  },
  "language_info": {
   "codemirror_mode": {
    "name": "ipython",
    "version": 3
   },
   "file_extension": ".py",
   "mimetype": "text/x-python",
   "name": "python",
   "nbconvert_exporter": "python",
   "pygments_lexer": "ipython3",
   "version": "3.11.4"
  },
  "orig_nbformat": 4
 },
 "nbformat": 4,
 "nbformat_minor": 2
}
